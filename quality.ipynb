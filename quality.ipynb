{
 "cells": [
  {
   "cell_type": "code",
   "execution_count": 2,
   "metadata": {},
   "outputs": [],
   "source": [
    "import pandas as pd\n",
    "import numpy as np\n",
    "from typing import Union,List, Dict\n",
    "import mysql.connector\n",
    "from mysql.connector import Error\n",
    "import psycopg2\n",
    "from psycopg2 import Error\n",
    "from credenciales_gamma import connection_params_gamma\n",
    "from credentials_geo import connection_params_geo\n",
    "from variables_by_sector import retail, office, industrial, land, sector_map, quality_map, photos_map, quality_map\n",
    "from querys import query_qa_price_rent, query_qa_price_sale, query_qa_area"
   ]
  },
  {
   "cell_type": "code",
   "execution_count": 3,
   "metadata": {},
   "outputs": [],
   "source": [
    "def execute_query_mysql(query: str, connection_params: dict) -> Union[pd.DataFrame, None]:\n",
    "    \"\"\"\n",
    "    Execute a SQL query on the MySQL database and return the results as a pandas DataFrame.\n",
    "\n",
    "    Args:\n",
    "        query (str): SQL query to execute\n",
    "        connection_params (dict): Connection parameters\n",
    "\n",
    "    Returns:\n",
    "        Union[pd.DataFrame, None]: DataFrame with query results or None if there was an error\n",
    "    \"\"\"\n",
    "    try:\n",
    "        # Connect to the database\n",
    "        connection = mysql.connector.connect(**connection_params)\n",
    "        \n",
    "        # Create a cursor\n",
    "        cursor = connection.cursor()\n",
    "        \n",
    "        # Execute the query\n",
    "        cursor.execute(query)\n",
    "        \n",
    "        # If the query returns results, fetch them\n",
    "        if cursor.description:\n",
    "            columns = [desc[0] for desc in cursor.description]\n",
    "            rows = cursor.fetchall()\n",
    "            df = pd.DataFrame(rows, columns=columns)\n",
    "            return df\n",
    "        else:\n",
    "            connection.commit()\n",
    "            return None\n",
    "            \n",
    "    except Error as error:\n",
    "        print(f\"Error while connecting to MySQL: {error}\")\n",
    "        return None\n",
    "        \n",
    "    finally:\n",
    "        if 'cursor' in locals():\n",
    "            cursor.close()\n",
    "        if 'connection' in locals():\n",
    "            connection.close()"
   ]
  },
  {
   "cell_type": "code",
   "execution_count": 4,
   "metadata": {},
   "outputs": [],
   "source": [
    "def execute_query_postgres(query: str, connection_params: dict) -> Union[pd.DataFrame, None]:\n",
    "    \"\"\"\n",
    "    Execute a SQL query on the PostgreSQL database and return the results as a pandas DataFrame.\n",
    "    \n",
    "    Args:\n",
    "        query (str): SQL query to execute\n",
    "        \n",
    "    Returns:\n",
    "        Union[pd.DataFrame, None]: DataFrame with query results or None if there was an error\n",
    "    \"\"\"\n",
    "    try:\n",
    "        # Connection parameters\n",
    "        \n",
    "        # Connect to the database\n",
    "        connection = psycopg2.connect(**connection_params)\n",
    "        \n",
    "        # Create a cursor\n",
    "        cursor = connection.cursor()\n",
    "        \n",
    "        # Execute the query\n",
    "        cursor.execute(query)\n",
    "        \n",
    "        # If the query returns results, fetch them\n",
    "        if cursor.description:\n",
    "            # Get column names\n",
    "            columns = [desc[0] for desc in cursor.description]\n",
    "            \n",
    "            # Fetch all rows\n",
    "            rows = cursor.fetchall()\n",
    "            \n",
    "            # Create DataFrame\n",
    "            df = pd.DataFrame(rows, columns=columns)\n",
    "            \n",
    "            return df\n",
    "        else:\n",
    "            # For queries that don't return results (INSERT, UPDATE, DELETE)\n",
    "            connection.commit()\n",
    "            return None\n",
    "            \n",
    "    except (Exception, Error) as error:\n",
    "        print(f\"Error while connecting to PostgreSQL: {error}\")\n",
    "        return None\n",
    "        \n",
    "    finally:\n",
    "        # Close the cursor and connection\n",
    "        if 'cursor' in locals():\n",
    "            cursor.close()\n",
    "        if 'connection' in locals():\n",
    "            connection.close()"
   ]
  },
  {
   "cell_type": "code",
   "execution_count": 5,
   "metadata": {},
   "outputs": [],
   "source": [
    "distribucion_photos = \"\"\"\n",
    "select spot_id , spot_photo_platform_count\n",
    "from lk_spots\n",
    "where spot_status_id = 1\n",
    "order by spot_photo_platform_count asc\n",
    "\"\"\"\n",
    "info = execute_query_postgres(distribucion_photos, connection_params_geo)"
   ]
  },
  {
   "cell_type": "code",
   "execution_count": 6,
   "metadata": {},
   "outputs": [
    {
     "data": {
      "text/plain": [
       "<Axes: >"
      ]
     },
     "execution_count": 6,
     "metadata": {},
     "output_type": "execute_result"
    },
    {
     "data": {
      "image/png": "[encoded data removed]",
      "text/plain": [
       "<Figure size 640x480 with 1 Axes>"
      ]
     },
     "metadata": {},
     "output_type": "display_data"
    }
   ],
   "source": [
    "info['spot_photo_platform_count'].hist(bins=100)"
   ]
  },
  {
   "cell_type": "code",
   "execution_count": 7,
   "metadata": {},
   "outputs": [
    {
     "data": {
      "text/html": [
       "<div>\n",
       "<style scoped>\n",
       "    .dataframe tbody tr th:only-of-type {\n",
       "        vertical-align: middle;\n",
       "    }\n",
       "\n",
       "    .dataframe tbody tr th {\n",
       "        vertical-align: top;\n",
       "    }\n",
       "\n",
       "    .dataframe thead th {\n",
       "        text-align: right;\n",
       "    }\n",
       "</style>\n",
       "<table border=\"1\" class=\"dataframe\">\n",
       "  <thead>\n",
       "    <tr style=\"text-align: right;\">\n",
       "      <th></th>\n",
       "      <th>spot_id</th>\n",
       "      <th>spot_photo_platform_count</th>\n",
       "    </tr>\n",
       "  </thead>\n",
       "  <tbody>\n",
       "    <tr>\n",
       "      <th>0</th>\n",
       "      <td>16225</td>\n",
       "      <td>0</td>\n",
       "    </tr>\n",
       "    <tr>\n",
       "      <th>1</th>\n",
       "      <td>21927</td>\n",
       "      <td>0</td>\n",
       "    </tr>\n",
       "    <tr>\n",
       "      <th>2</th>\n",
       "      <td>21928</td>\n",
       "      <td>0</td>\n",
       "    </tr>\n",
       "    <tr>\n",
       "      <th>3</th>\n",
       "      <td>21929</td>\n",
       "      <td>0</td>\n",
       "    </tr>\n",
       "    <tr>\n",
       "      <th>4</th>\n",
       "      <td>21930</td>\n",
       "      <td>0</td>\n",
       "    </tr>\n",
       "  </tbody>\n",
       "</table>\n",
       "</div>"
      ],
      "text/plain": [
       "   spot_id  spot_photo_platform_count\n",
       "0    16225                          0\n",
       "1    21927                          0\n",
       "2    21928                          0\n",
       "3    21929                          0\n",
       "4    21930                          0"
      ]
     },
     "execution_count": 7,
     "metadata": {},
     "output_type": "execute_result"
    }
   ],
   "source": [
    "info.head()"
   ]
  },
  {
   "cell_type": "code",
   "execution_count": 8,
   "metadata": {},
   "outputs": [
    {
     "name": "stdout",
     "output_type": "stream",
     "text": [
      "{'10': 0.0, '20': 1.0, '30': 1.0, '40': 1.0, '50': 2.0, '60': 3.0, '70': 4.0, '80': 5.0, '90': 9.0}\n"
     ]
    }
   ],
   "source": [
    "quantiles = [0.10, 0.20, 0.30, 0.40, 0.50, 0.60, 0.70, 0.80, 0.90]\n",
    "\n",
    "photo_quantile_map = {\n",
    "    f\"{int(q*100)}\": info['spot_photo_platform_count'].quantile(q)\n",
    "    for q in quantiles\n",
    "}\n",
    "\n",
    "print(photo_quantile_map)"
   ]
  },
  {
   "cell_type": "code",
   "execution_count": 9,
   "metadata": {},
   "outputs": [],
   "source": [
    "def get_id_spot(id: int):\n",
    "    id = id\n",
    "    query_completitud = f\"\"\"\n",
    "    SELECT \n",
    "    s.id AS spot_id,\n",
    "    s.spot_type_id, \n",
    "    s.natural_light, \n",
    "    s.luminaries, \n",
    "    s.charging_ports, \n",
    "    s.energy, \n",
    "    s.floor_material, \n",
    "    s.fire_protection_system, \n",
    "    s.security_type, \n",
    "    s.vehicle_ramp, \n",
    "    s.land_use, \n",
    "    s.floor_level, \n",
    "    s.vertical_height, \n",
    "    s.parking_spaces, \n",
    "    s.front, \n",
    "    s.height, \n",
    "    s.height_between_floors,\n",
    "\n",
    "    -- Amenidades\n",
    "    MAX(CASE WHEN a.name = 'Baños' THEN 1 ELSE 0 END) AS Banos,\n",
    "    MAX(CASE WHEN a.name = 'Wifi' THEN 1 ELSE 0 END) AS Wifi,\n",
    "    MAX(CASE WHEN a.name = 'A/C' THEN 1 ELSE 0 END) AS Ac,\n",
    "    MAX(CASE WHEN a.name = 'Estacionamiento' THEN 1 ELSE 0 END) AS Estacionamiento,\n",
    "    MAX(CASE WHEN a.name = 'Bodega' THEN 1 ELSE 0 END) AS Bodega,\n",
    "    MAX(CASE WHEN a.name = 'Accesibilidad' THEN 1 ELSE 0 END) AS Accesibilidad,\n",
    "    MAX(CASE WHEN a.name = 'Luz' THEN 1 ELSE 0 END) AS Luz,\n",
    "    MAX(CASE WHEN a.name = 'Sistema de seguridad' THEN 1 ELSE 0 END) AS Sistema_de_seguridad,\n",
    "    MAX(CASE WHEN a.name = 'Montacargas' THEN 1 ELSE 0 END) AS Montacargas,\n",
    "    MAX(CASE WHEN a.name = 'Pizarrón' THEN 1 ELSE 0 END) AS Pizarron,\n",
    "    MAX(CASE WHEN a.name = 'Elevador' THEN 1 ELSE 0 END) AS Elevador,\n",
    "    MAX(CASE WHEN a.name = 'Terraza' THEN 1 ELSE 0 END) AS Terraza,\n",
    "    MAX(CASE WHEN a.name = 'Zona de limpieza' THEN 1 ELSE 0 END) AS Zona_de_limpieza,\n",
    "    MAX(CASE WHEN a.name = 'Posibilidad a dividirse' THEN 1 ELSE 0 END) AS Posibilidad_a_dividirse,\n",
    "    MAX(CASE WHEN a.name = 'Mezzanine' THEN 1 ELSE 0 END) AS Mezzanine,\n",
    "    MAX(CASE WHEN a.name = 'cocina equipada' THEN 1 ELSE 0 END) AS Cocina_equipada,\n",
    "    MAX(CASE WHEN a.name = 'Cocina' THEN 1 ELSE 0 END) AS Cocina,\n",
    "    MAX(CASE WHEN a.name = 'Planta de luz' THEN 1 ELSE 0 END) AS Planta_de_luz,\n",
    "    MAX(CASE WHEN a.name = 'Tapanco' THEN 1 ELSE 0 END) AS Tapanco\n",
    "\n",
    "    FROM spots s\n",
    "    LEFT JOIN spot_amenities sa ON sa.spot_id = s.id\n",
    "    LEFT JOIN amenities a ON a.id = sa.amenity_id\n",
    "    WHERE s.id = {id}\n",
    "    \"\"\"\n",
    "    query_photos = f\"\"\"\n",
    "    select photo_id, additional_information, short_description, name, quality\n",
    "    from photos_aiclassification ai \n",
    "    left join photos_aiclassification_photo_tag aitag on ai.id = aitag. aiclassification_id\n",
    "    left join photos_phototag tag on tag.id = aitag.phototag_id\n",
    "    where spot_id = {id}\n",
    "    \"\"\"\n",
    "    query_prices = f\"\"\"\n",
    "    select s.id, \n",
    "    case when price_area = 1 then 'total_price'\n",
    "    when price_area = 2 then 'price_sqm' end as type_price, \n",
    "    case when currency_type = 1 or currency_type is null then 'MXN'\n",
    "    else 'USD' end as currency,\n",
    "    case when type = 1 then 'rent'\n",
    "    when type = 2 then 'sale' end as modality, \n",
    "    case when currency_type = 1 or currency_type is null then rate \n",
    "    else  rate * 19 end as price,\n",
    "    s.square_space\n",
    "    from spots s \n",
    "    join prices p on s.id = p.spot_id\n",
    "    where type in (1,2)\n",
    "    and p.deleted_at is null \n",
    "    and s.id = {id}\n",
    "    \"\"\"\n",
    "\n",
    "    amenities = execute_query_mysql(query_completitud, connection_params_gamma)\n",
    "    photos = execute_query_postgres(query_photos, connection_params_geo)\n",
    "    prices = execute_query_mysql(query_prices, connection_params_gamma)\n",
    "\n",
    "    photos_ids = list(photos['photo_id'].unique())\n",
    "    photos_ids = str(photos_ids).replace('[', '').replace(']', '')\n",
    "\n",
    "    query_public_photos = f\"\"\"\n",
    "    select id, deleted_at\n",
    "    from photos\n",
    "    where id in ({photos_ids})\n",
    "    and deleted_at is null\n",
    "    \"\"\"\n",
    "\n",
    "    public_photos = execute_query_mysql(query_public_photos, connection_params_gamma)\n",
    "    return amenities, photos, prices, public_photos"
   ]
  },
  {
   "cell_type": "code",
   "execution_count": 10,
   "metadata": {},
   "outputs": [],
   "source": [
    "def evaluation_by_sector(data : pd.DataFrame):\n",
    "    data.fillna(0, inplace=True)\n",
    "    if data['spot_type_id'][0] == 13: #13 es sector retail\n",
    "        #evaluar amenities del sector retail\n",
    "        data_filtered = data[data.columns.intersection(retail)]\n",
    "    elif data['spot_type_id'][0] == 11: #14 es sector office\n",
    "        #evaluar amenities del sector office\n",
    "        data_filtered = data[data.columns.intersection(office)]\n",
    "    elif data['spot_type_id'][0] == 9: #9 es sector industrial\n",
    "        #evaluar amenities del sector industrial\n",
    "        data_filtered = data[data.columns.intersection(industrial)]\n",
    "    elif data['spot_type_id'][0] == 15: #15 es sector terreno\n",
    "        #evaluar amenities del sector terreno\n",
    "        data_filtered = data[data.columns.intersection(land)]\n",
    "    else:\n",
    "        print('se provee un sector inexistente')\n",
    "    \n",
    "    total_columnas = data_filtered.shape[1]\n",
    "    columnas_en_cero = (data_filtered.iloc[0] == 0).sum()\n",
    "    porcentaje_columnas_completas = ((columnas_en_cero / total_columnas) * 100) - 100\n",
    "    return porcentaje_columnas_completas\n",
    "        "
   ]
  },
  {
   "cell_type": "code",
   "execution_count": 11,
   "metadata": {},
   "outputs": [],
   "source": [
    "def evaluation_price_area(data:pd.DataFrame, sector_id: int):\n",
    "    sector = sector_map.get(sector_id)\n",
    "    if data['type_price'][0] == 'total_price':\n",
    "        price_m2 = data['price'][0]/data['square_space'][0]\n",
    "    elif data['type_price'][0] == 'price_sqm':\n",
    "        price_m2 = data['price'][0]\n",
    "    if data['modality'][0] == 'rent':\n",
    "        query = query_qa_price_rent(price_m2, sector)\n",
    "        result_price = execute_query_postgres(query, connection_params_geo)\n",
    "    elif data['modality'][0] == 'sale':\n",
    "        query = query_qa_price_sale(price_m2, sector)\n",
    "        result_price = execute_query_postgres(query, connection_params_geo)\n",
    "    query = query_qa_area(data['square_space'][0], sector)\n",
    "    result_area = execute_query_postgres(query, connection_params_geo)\n",
    "\n",
    "\n",
    "    if result_price['dentro_del_rango'][0] == True and result_area['dentro_del_rango'][0] == True:\n",
    "        return 100\n",
    "    elif result_price['dentro_del_rango'][0] == True and result_area['dentro_del_rango'][0] == False:\n",
    "        return 50\n",
    "    elif result_price['dentro_del_rango'][0] == False and result_area['dentro_del_rango'][0] == True:\n",
    "        return 50\n",
    "    else:\n",
    "        return 0"
   ]
  },
  {
   "cell_type": "code",
   "execution_count": 18,
   "metadata": {},
   "outputs": [],
   "source": [
    "def evaluation_photos(data_photos: pd.DataFrame, data_public_photos: pd.DataFrame):\n",
    "    # evaluation of the quality of the name photos. \n",
    "    data_photos['score_name_photos'] = data_photos['name'].map(photos_map)\n",
    "    score_name_photos = abs((data_photos['score_name_photos'].sum()/len(data_photos)*4)-100)\n",
    "\n",
    "    # evaluation of the quality of the photos. \n",
    "    data_photos['score_quality_photos'] = data_photos['quality'].map(quality_map)\n",
    "    score_quality_photos = abs((data_photos['score_quality_photos'].sum()/len(data_photos)*4)-100)\n",
    "\n",
    "    # evaluation of the quantity of the public photos. \n",
    "    if len(data_public_photos) == 0:\n",
    "        score_quantity_photos = 0\n",
    "    elif len(data_public_photos) == 1:\n",
    "        score_quantity_photos = 25\n",
    "    elif len(data_public_photos) > 1 and len(data_public_photos) <= 3:\n",
    "        score_quantity_photos = 50\n",
    "    elif len(data_public_photos) > 3 and len(data_public_photos) <= 5:\n",
    "        score_quantity_photos = 75\n",
    "    elif len(data_public_photos) > 5 and len(data_public_photos) <= 9:\n",
    "        score_quantity_photos = 90\n",
    "    elif len(data_public_photos) > 13:\n",
    "        score_quantity_photos = 100\n",
    "    return score_name_photos,score_quality_photos, score_quantity_photos"
   ]
  },
  {
   "cell_type": "code",
   "execution_count": 13,
   "metadata": {},
   "outputs": [],
   "source": [
    "amenities, photos, prices, public_photos = get_id_spot(47080)"
   ]
  },
  {
   "cell_type": "code",
   "execution_count": 14,
   "metadata": {},
   "outputs": [],
   "source": [
    "l = evaluation_by_sector(amenities)"
   ]
  },
  {
   "cell_type": "code",
   "execution_count": 15,
   "metadata": {},
   "outputs": [],
   "source": [
    "f = evaluation_price_area(prices,amenities['spot_type_id'][0])"
   ]
  },
  {
   "cell_type": "code",
   "execution_count": 20,
   "metadata": {},
   "outputs": [],
   "source": [
    "g = evaluation_photos(photos, public_photos)"
   ]
  },
  {
   "cell_type": "code",
   "execution_count": 21,
   "metadata": {},
   "outputs": [
    {
     "data": {
      "text/plain": [
       "(88.0, 88.0, 90)"
      ]
     },
     "execution_count": 21,
     "metadata": {},
     "output_type": "execute_result"
    }
   ],
   "source": [
    "g"
   ]
  },
  {
   "cell_type": "code",
   "execution_count": 12,
   "metadata": {},
   "outputs": [
    {
     "data": {
      "text/plain": [
       "2.6"
      ]
     },
     "execution_count": 12,
     "metadata": {},
     "output_type": "execute_result"
    }
   ],
   "source": [
    "photos['quality'].map(quality_map).sum()/len(photos)"
   ]
  },
  {
   "cell_type": "code",
   "execution_count": 26,
   "metadata": {},
   "outputs": [
    {
     "data": {
      "text/html": [
       "<div>\n",
       "<style scoped>\n",
       "    .dataframe tbody tr th:only-of-type {\n",
       "        vertical-align: middle;\n",
       "    }\n",
       "\n",
       "    .dataframe tbody tr th {\n",
       "        vertical-align: top;\n",
       "    }\n",
       "\n",
       "    .dataframe thead th {\n",
       "        text-align: right;\n",
       "    }\n",
       "</style>\n",
       "<table border=\"1\" class=\"dataframe\">\n",
       "  <thead>\n",
       "    <tr style=\"text-align: right;\">\n",
       "      <th></th>\n",
       "      <th>photo_id</th>\n",
       "      <th>additional_information</th>\n",
       "      <th>short_description</th>\n",
       "      <th>name</th>\n",
       "      <th>quality</th>\n",
       "      <th>score_quality_photos</th>\n",
       "    </tr>\n",
       "  </thead>\n",
       "  <tbody>\n",
       "    <tr>\n",
       "      <th>0</th>\n",
       "      <td>304170</td>\n",
       "      <td>{'message': '['ventana', 'piso', 'armarios', '...</td>\n",
       "      <td>Apartamento moderno con vista panorámica de la...</td>\n",
       "      <td>Objetos encontrados</td>\n",
       "      <td>Neutro</td>\n",
       "      <td>3</td>\n",
       "    </tr>\n",
       "    <tr>\n",
       "      <th>1</th>\n",
       "      <td>304169</td>\n",
       "      <td>{'message': '['paredes de vidrio', 'suelo de b...</td>\n",
       "      <td>Interior moderno con paredes de vidrio, suelos...</td>\n",
       "      <td>Objetos encontrados</td>\n",
       "      <td>Neutro</td>\n",
       "      <td>3</td>\n",
       "    </tr>\n",
       "    <tr>\n",
       "      <th>2</th>\n",
       "      <td>304169</td>\n",
       "      <td>{'message': '['paredes de vidrio', 'suelo de b...</td>\n",
       "      <td>Interior moderno con paredes de vidrio, suelos...</td>\n",
       "      <td>Ubicación foto</td>\n",
       "      <td>Neutro</td>\n",
       "      <td>3</td>\n",
       "    </tr>\n",
       "    <tr>\n",
       "      <th>3</th>\n",
       "      <td>304168</td>\n",
       "      <td>{'message': '['edificio', 'balcones', 'ventana...</td>\n",
       "      <td>Edificio de apartamentos alto y moderno visto ...</td>\n",
       "      <td>Objetos encontrados</td>\n",
       "      <td>Neutro</td>\n",
       "      <td>3</td>\n",
       "    </tr>\n",
       "    <tr>\n",
       "      <th>4</th>\n",
       "      <td>304168</td>\n",
       "      <td>{'message': '['edificio', 'balcones', 'ventana...</td>\n",
       "      <td>Edificio de apartamentos alto y moderno visto ...</td>\n",
       "      <td>Ubicación foto</td>\n",
       "      <td>Neutro</td>\n",
       "      <td>3</td>\n",
       "    </tr>\n",
       "  </tbody>\n",
       "</table>\n",
       "</div>"
      ],
      "text/plain": [
       "   photo_id                             additional_information  \\\n",
       "0    304170  {'message': '['ventana', 'piso', 'armarios', '...   \n",
       "1    304169  {'message': '['paredes de vidrio', 'suelo de b...   \n",
       "2    304169  {'message': '['paredes de vidrio', 'suelo de b...   \n",
       "3    304168  {'message': '['edificio', 'balcones', 'ventana...   \n",
       "4    304168  {'message': '['edificio', 'balcones', 'ventana...   \n",
       "\n",
       "                                   short_description                 name  \\\n",
       "0  Apartamento moderno con vista panorámica de la...  Objetos encontrados   \n",
       "1  Interior moderno con paredes de vidrio, suelos...  Objetos encontrados   \n",
       "2  Interior moderno con paredes de vidrio, suelos...       Ubicación foto   \n",
       "3  Edificio de apartamentos alto y moderno visto ...  Objetos encontrados   \n",
       "4  Edificio de apartamentos alto y moderno visto ...       Ubicación foto   \n",
       "\n",
       "  quality  score_quality_photos  \n",
       "0  Neutro                     3  \n",
       "1  Neutro                     3  \n",
       "2  Neutro                     3  \n",
       "3  Neutro                     3  \n",
       "4  Neutro                     3  "
      ]
     },
     "execution_count": 26,
     "metadata": {},
     "output_type": "execute_result"
    }
   ],
   "source": [
    "photos.head()"
   ]
  },
  {
   "cell_type": "code",
   "execution_count": null,
   "metadata": {},
   "outputs": [],
   "source": []
  }
 ],
 "metadata": {
  "kernelspec": {
   "display_name": "mi_entorno",
   "language": "python",
   "name": "python3"
  },
  "language_info": {
   "codemirror_mode": {
    "name": "ipython",
    "version": 3
   },
   "file_extension": ".py",
   "mimetype": "text/x-python",
   "name": "python",
   "nbconvert_exporter": "python",
   "pygments_lexer": "ipython3",
   "version": "3.8.18"
  }
 },
 "nbformat": 4,
 "nbformat_minor": 2
}
